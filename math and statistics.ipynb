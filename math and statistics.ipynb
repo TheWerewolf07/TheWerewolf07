{
 "cells": [
  {
   "cell_type": "code",
   "execution_count": 1,
   "id": "5bc12f68",
   "metadata": {},
   "outputs": [
    {
     "name": "stdout",
     "output_type": "stream",
     "text": [
      "130\n"
     ]
    }
   ],
   "source": [
    "x=[1,4,6,2]\n",
    "n=len(x)\n",
    "\n",
    "summation=sum(10*x[i] for i in range(0,n))\n",
    "print(summation)"
   ]
  },
  {
   "cell_type": "code",
   "execution_count": 2,
   "id": "078b072a",
   "metadata": {},
   "outputs": [
    {
     "ename": "NameError",
     "evalue": "name 'symbols' is not defined",
     "output_type": "error",
     "traceback": [
      "\u001b[1;31m---------------------------------------------------------------------------\u001b[0m",
      "\u001b[1;31mNameError\u001b[0m                                 Traceback (most recent call last)",
      "Input \u001b[1;32mIn [2]\u001b[0m, in \u001b[0;36m<cell line: 1>\u001b[1;34m()\u001b[0m\n\u001b[1;32m----> 1\u001b[0m x\u001b[38;5;241m=\u001b[39m\u001b[43msymbols\u001b[49m(\u001b[38;5;124m'\u001b[39m\u001b[38;5;124mx\u001b[39m\u001b[38;5;124m'\u001b[39m)\n\u001b[0;32m      2\u001b[0m expr\u001b[38;5;241m=\u001b[39mx\u001b[38;5;241m*\u001b[39m\u001b[38;5;241m*\u001b[39m\u001b[38;5;241m2\u001b[39m\u001b[38;5;241m/\u001b[39mx\u001b[38;5;241m*\u001b[39m\u001b[38;5;241m*\u001b[39m\u001b[38;5;241m5\u001b[39m\n\u001b[0;32m      3\u001b[0m \u001b[38;5;28mprint\u001b[39m(expr)\n",
      "\u001b[1;31mNameError\u001b[0m: name 'symbols' is not defined"
     ]
    }
   ],
   "source": []
  },
  {
   "cell_type": "code",
   "execution_count": 4,
   "id": "29fc3863",
   "metadata": {},
   "outputs": [
    {
     "name": "stdout",
     "output_type": "stream",
     "text": [
      "3.0\n"
     ]
    }
   ],
   "source": [
    "from math import log\n",
    "\n",
    "x=log(8,2)\n",
    "print(x)\n"
   ]
  },
  {
   "cell_type": "code",
   "execution_count": 4,
   "id": "01d09bf8",
   "metadata": {},
   "outputs": [
    {
     "name": "stdout",
     "output_type": "stream",
     "text": [
      "103.88601182540846\n",
      "149.18246976412703\n"
     ]
    }
   ],
   "source": [
    "# Euler's number- e=2.71828\n",
    "from math import exp\n",
    "\n",
    "p=100\n",
    "r=0.20\n",
    "t=2.0\n",
    "\n",
    "a=p*(1+(r/t))**(r*t)\n",
    "print(a)\n",
    "\n",
    "a=p*exp(r*t)\n",
    "print(a)"
   ]
  },
  {
   "cell_type": "code",
   "execution_count": 6,
   "id": "28e9c84a",
   "metadata": {},
   "outputs": [
    {
     "name": "stdout",
     "output_type": "stream",
     "text": [
      "2.302585092994046\n"
     ]
    }
   ],
   "source": [
    "from math import log\n",
    "x=log(10)\n",
    "print(x)"
   ]
  },
  {
   "cell_type": "code",
   "execution_count": 8,
   "id": "c8f58772",
   "metadata": {},
   "outputs": [
    {
     "name": "stdout",
     "output_type": "stream",
     "text": [
      "x\n"
     ]
    }
   ],
   "source": [
    "#Limits-\n",
    "from sympy import *\n",
    "x=symbols('x')\n",
    "f=1/x\n",
    "result=limit(f,x,oo)\n",
    "print(x)"
   ]
  },
  {
   "cell_type": "code",
   "execution_count": 1,
   "id": "4960e72f",
   "metadata": {},
   "outputs": [
    {
     "name": "stdout",
     "output_type": "stream",
     "text": [
      "4.000099999999392\n"
     ]
    }
   ],
   "source": [
    "# Derivatives- A derivative tells the slope of a function and it is usefule to measure\n",
    "# the rate of change at any point in a function\n",
    "\n",
    "def derivative_x(f,x,step_size):\n",
    "    m=(f(x+step_size)-f(x))/((x+step_size)-x)\n",
    "    return m\n",
    "def my_function(x):\n",
    "    return x**2\n",
    "slope_at_2=derivative_x(my_function,2,0.0001)\n",
    "\n",
    "print(slope_at_2)"
   ]
  },
  {
   "cell_type": "code",
   "execution_count": 3,
   "id": "977d0eda",
   "metadata": {},
   "outputs": [
    {
     "name": "stdout",
     "output_type": "stream",
     "text": [
      "2*x\n"
     ]
    }
   ],
   "source": [
    "from sympy import *\n",
    "\n",
    "x=symbols('x')\n",
    "\n",
    "f=x**2\n",
    "\n",
    "dx_f=diff(f)\n",
    "print(dx_f)"
   ]
  },
  {
   "cell_type": "markdown",
   "id": "dd4387ac",
   "metadata": {},
   "source": [
    "def f(x):\n",
    "    return x**2\n",
    "def dx_f(x):\n",
    "    return 2*x\n",
    "\n",
    "slope_at_3=dx_f(3.0)\n",
    "\n",
    "print(slope_at_3)"
   ]
  },
  {
   "cell_type": "code",
   "execution_count": 5,
   "id": "f4c9136b",
   "metadata": {},
   "outputs": [
    {
     "name": "stdout",
     "output_type": "stream",
     "text": [
      "6.0\n"
     ]
    }
   ],
   "source": [
    "def f(x):\n",
    "    return x**2\n",
    "\n",
    "def dx_f(x):\n",
    "    return 2*x\n",
    "\n",
    "slope_at_3= dx_f(3.0)\n",
    "\n",
    "print(slope_at_3)"
   ]
  },
  {
   "cell_type": "code",
   "execution_count": null,
   "id": "97f16ccd",
   "metadata": {},
   "outputs": [],
   "source": [
    "#Probability\n",
    "#Probability of will I get 7 heads in 10 fair coin flips"
   ]
  },
  {
   "cell_type": "code",
   "execution_count": 6,
   "id": "f5601d59",
   "metadata": {},
   "outputs": [
    {
     "name": "stdout",
     "output_type": "stream",
     "text": [
      "2.875\n"
     ]
    }
   ],
   "source": [
    "sample=[1,3,2,5,7,0,2,3]\n",
    "\n",
    "mean=sum(sample)/len(sample)\n",
    "print(mean)"
   ]
  },
  {
   "cell_type": "code",
   "execution_count": 8,
   "id": "fb9e0847",
   "metadata": {},
   "outputs": [
    {
     "name": "stdout",
     "output_type": "stream",
     "text": [
      "81.4\n"
     ]
    }
   ],
   "source": [
    "sample=[90,80,63,87]\n",
    "weights=[0.20,0.20,0.20,0.40]\n",
    "\n",
    "weighted_mean=sum(s*w for s,w in zip(sample,weights))/sum(weights)\n",
    "print(weighted_mean)"
   ]
  },
  {
   "cell_type": "code",
   "execution_count": 9,
   "id": "6cf3fd19",
   "metadata": {},
   "outputs": [
    {
     "name": "stdout",
     "output_type": "stream",
     "text": [
      "[0, 1, 5, 7, 9, 10, 14]\n",
      "7\n"
     ]
    }
   ],
   "source": [
    "sample=[0,1,5,7,9,10,14]\n",
    "\n",
    "def median(values):\n",
    "    ordered=sorted(values)\n",
    "    print(ordered)\n",
    "    n=len(ordered)\n",
    "    mid=int(n/2)-1 if n%2==0 else int(n/2)\n",
    "    if n%2==0:\n",
    "        return(ordered[mid]+ordered[mid+1])/2.0\n",
    "    else:\n",
    "        return ordered[mid]\n",
    "print(median(sample))"
   ]
  },
  {
   "cell_type": "code",
   "execution_count": 15,
   "id": "6b79d710",
   "metadata": {},
   "outputs": [
    {
     "name": "stdout",
     "output_type": "stream",
     "text": [
      "[2, 3]\n"
     ]
    }
   ],
   "source": [
    "from collections import defaultdict\n",
    "\n",
    "sample=[1,3,2,5,7,0,2,3]\n",
    "\n",
    "def mode(values):\n",
    "    counts=defaultdict(lambda:0)\n",
    "    for s in values:\n",
    "        counts[s]+=1\n",
    "        max_count=max(counts.values())\n",
    "    modes=[v for v in set(values) if counts[v]==max_count]\n",
    "    return modes\n",
    "print(mode(sample))"
   ]
  },
  {
   "cell_type": "code",
   "execution_count": 24,
   "id": "2e785d9d",
   "metadata": {},
   "outputs": [
    {
     "ename": "SyntaxError",
     "evalue": "invalid syntax (3569833520.py, line 5)",
     "output_type": "error",
     "traceback": [
      "\u001b[1;36m  Input \u001b[1;32mIn [24]\u001b[1;36m\u001b[0m\n\u001b[1;33m    var=sum((v-mean)**2 for v in the values)/len(values)\u001b[0m\n\u001b[1;37m                                     ^\u001b[0m\n\u001b[1;31mSyntaxError\u001b[0m\u001b[1;31m:\u001b[0m invalid syntax\n"
     ]
    }
   ],
   "source": [
    "data=[0,1,5,7,9,10,14]\n",
    "\n",
    "def variance(values):\n",
    "    mean=sum(values)/len(values)\n",
    "    var=sum((v-mean)**2 for v in the values)/len(values)\n",
    "    return var\n",
    "print(variance(data))\n",
    "\n",
    "def std_dev(values):\n",
    "    return sqrt(variance(values))\n",
    "print(std_dev(data))"
   ]
  },
  {
   "cell_type": "code",
   "execution_count": null,
   "id": "ffe46eda",
   "metadata": {},
   "outputs": [],
   "source": []
  },
  {
   "cell_type": "code",
   "execution_count": null,
   "id": "12a21cf6",
   "metadata": {},
   "outputs": [],
   "source": []
  },
  {
   "cell_type": "code",
   "execution_count": null,
   "id": "c2117747",
   "metadata": {},
   "outputs": [],
   "source": []
  },
  {
   "cell_type": "code",
   "execution_count": null,
   "id": "a2a33ba5",
   "metadata": {},
   "outputs": [],
   "source": []
  },
  {
   "cell_type": "code",
   "execution_count": null,
   "id": "0d327c0f",
   "metadata": {},
   "outputs": [],
   "source": [
    "  \n",
    "    "
   ]
  },
  {
   "cell_type": "code",
   "execution_count": null,
   "id": "dffd7a3e",
   "metadata": {},
   "outputs": [],
   "source": []
  },
  {
   "cell_type": "code",
   "execution_count": null,
   "id": "27ff30b1",
   "metadata": {},
   "outputs": [],
   "source": []
  },
  {
   "cell_type": "code",
   "execution_count": null,
   "id": "7f48d4a6",
   "metadata": {},
   "outputs": [],
   "source": []
  },
  {
   "cell_type": "code",
   "execution_count": null,
   "id": "e467cd65",
   "metadata": {},
   "outputs": [],
   "source": []
  },
  {
   "cell_type": "code",
   "execution_count": null,
   "id": "ba678de9",
   "metadata": {},
   "outputs": [],
   "source": []
  },
  {
   "cell_type": "code",
   "execution_count": null,
   "id": "aa1ec5b5",
   "metadata": {},
   "outputs": [],
   "source": []
  },
  {
   "cell_type": "code",
   "execution_count": null,
   "id": "d3e9cf37",
   "metadata": {},
   "outputs": [],
   "source": []
  },
  {
   "cell_type": "code",
   "execution_count": null,
   "id": "2807c04d",
   "metadata": {},
   "outputs": [],
   "source": []
  },
  {
   "cell_type": "code",
   "execution_count": null,
   "id": "f11d4ee3",
   "metadata": {},
   "outputs": [],
   "source": []
  },
  {
   "cell_type": "code",
   "execution_count": null,
   "id": "f3a487f8",
   "metadata": {},
   "outputs": [],
   "source": []
  },
  {
   "cell_type": "code",
   "execution_count": null,
   "id": "b4de904c",
   "metadata": {},
   "outputs": [],
   "source": []
  },
  {
   "cell_type": "code",
   "execution_count": null,
   "id": "72d4db96",
   "metadata": {},
   "outputs": [],
   "source": []
  },
  {
   "cell_type": "code",
   "execution_count": null,
   "id": "1d511bb3",
   "metadata": {},
   "outputs": [],
   "source": []
  },
  {
   "cell_type": "code",
   "execution_count": null,
   "id": "c5de4163",
   "metadata": {},
   "outputs": [],
   "source": []
  },
  {
   "cell_type": "code",
   "execution_count": null,
   "id": "cd53cc0a",
   "metadata": {},
   "outputs": [],
   "source": []
  },
  {
   "cell_type": "code",
   "execution_count": null,
   "id": "71f8e778",
   "metadata": {},
   "outputs": [],
   "source": []
  },
  {
   "cell_type": "code",
   "execution_count": null,
   "id": "7437ce0e",
   "metadata": {},
   "outputs": [],
   "source": []
  },
  {
   "cell_type": "code",
   "execution_count": null,
   "id": "397275ac",
   "metadata": {},
   "outputs": [],
   "source": []
  },
  {
   "cell_type": "code",
   "execution_count": null,
   "id": "252911e6",
   "metadata": {},
   "outputs": [],
   "source": []
  },
  {
   "cell_type": "code",
   "execution_count": null,
   "id": "3c2322f1",
   "metadata": {},
   "outputs": [],
   "source": []
  }
 ],
 "metadata": {
  "kernelspec": {
   "display_name": "Python 3 (ipykernel)",
   "language": "python",
   "name": "python3"
  },
  "language_info": {
   "codemirror_mode": {
    "name": "ipython",
    "version": 3
   },
   "file_extension": ".py",
   "mimetype": "text/x-python",
   "name": "python",
   "nbconvert_exporter": "python",
   "pygments_lexer": "ipython3",
   "version": "3.9.12"
  }
 },
 "nbformat": 4,
 "nbformat_minor": 5
}
